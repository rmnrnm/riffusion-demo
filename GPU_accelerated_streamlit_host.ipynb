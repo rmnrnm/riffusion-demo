{
  "nbformat": 4,
  "nbformat_minor": 0,
  "metadata": {
    "colab": {
      "provenance": [],
      "private_outputs": true,
      "gpuType": "A100",
      "include_colab_link": true
    },
    "kernelspec": {
      "name": "python3",
      "display_name": "Python 3"
    },
    "language_info": {
      "name": "python"
    },
    "accelerator": "GPU",
    "gpuClass": "standard"
  },
  "cells": [
    {
      "cell_type": "markdown",
      "metadata": {
        "id": "view-in-github",
        "colab_type": "text"
      },
      "source": [
        "<a href=\"https://colab.research.google.com/github/rmnrnm/riffusion-demo/blob/main/GPU_accelerated_streamlit_host.ipynb\" target=\"_parent\"><img src=\"https://colab.research.google.com/assets/colab-badge.svg\" alt=\"Open In Colab\"/></a>"
      ]
    },
    {
      "cell_type": "markdown",
      "source": [
        "# Riffusion streamlit Colab host.\n",
        "\n",
        "Run [riffusion](https://www.riffusion.com/about) streamlit app GPU accelerated via colab host\n",
        "\n",
        "Adapted from the Riffusion project by [Seth Forsgren](https://twitter.com/sethforsgren) and [Hayk Martiros](https://github.com/hmartiro), colab notebook by [Jasper Gilley](https://twitter.com/0xjasper)\n",
        "\n",
        "Some cool prompt ideas can be found at https://ai-art-wiki.com/wiki/Riffusion#Prompts\n",
        "\n",
        "\n",
        "\n",
        "## How to run:\n",
        "\n",
        "Register at [ngrok](https://www.ngrok.com), confirm via mail and retrieve your [authentification token](https://dashboard.ngrok.com/get-started/your-authtoken). \n",
        "\n",
        "Copy the token to text field `ngrok_token` below, then run the cell.\n",
        "\n",
        "Click the round play buttons next to the cells below to run the code to set up public tunnel and run Streamlit app. \n",
        "\n",
        "You can open the app via the web url displayed in the last cell output.\n",
        "\n",
        "\n"
      ],
      "metadata": {
        "id": "HK0XvGHcKeos"
      }
    },
    {
      "cell_type": "code",
      "source": [
        "!nvidia-smi"
      ],
      "metadata": {
        "id": "wtPb1LmTup-P"
      },
      "execution_count": null,
      "outputs": []
    },
    {
      "cell_type": "code",
      "execution_count": null,
      "metadata": {
        "id": "PhX8wJzIugkh",
        "cellView": "form"
      },
      "outputs": [],
      "source": [
        "#@title Clone the inference repo and install locally\n",
        "!git clone https://github.com/riffusion/riffusion.git\n",
        "%cd riffusion\n",
        "%pip install -e .\n",
        "%pip install pyngrok"
      ]
    },
    {
      "cell_type": "code",
      "source": [
        "#@title Enter your ngrok token below\n",
        "from pyngrok import ngrok, conf\n",
        "import os\n",
        "\n",
        "# Set the Streamlit port\n",
        "port = 8501\n",
        "\n",
        "# Set up the pyngrok config\n",
        "ngrok_token = \"\" #@param {type:\"string\"}\n",
        "if ngrok_token == \"\":\n",
        "  ngrok_token = None\n",
        "pyngrok_config = conf.PyngrokConfig(auth_token=ngrok_token, region='eu')\n",
        "\n",
        "# Start a public tunnel on the specified port\n",
        "public_url = ngrok.connect(port, 'http', pyngrok_config=pyngrok_config).public_url\n",
        "print(f\"\\n\\nRiffusion app will be accessible at: {public_url}\")\n",
        "\n",
        "# Run the Streamlit app\n",
        "!streamlit run riffusion/streamlit/playground.py --server.port {port} --server.headless True\n"
      ],
      "metadata": {
        "id": "AKaLXudMeB7h",
        "cellView": "form"
      },
      "execution_count": null,
      "outputs": []
    }
  ]
}